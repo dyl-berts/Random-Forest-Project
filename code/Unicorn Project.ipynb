{
  "metadata": {
    "kernelspec": {
      "name": "python",
      "display_name": "Python (Pyodide)",
      "language": "python"
    },
    "language_info": {
      "codemirror_mode": {
        "name": "python",
        "version": 3
      },
      "file_extension": ".py",
      "mimetype": "text/x-python",
      "name": "python",
      "nbconvert_exporter": "python",
      "pygments_lexer": "ipython3",
      "version": "3.8"
    }
  },
  "nbformat_minor": 4,
  "nbformat": 4,
  "cells": [
    {
      "cell_type": "code",
      "source": "# Install seaborn library\n%pip install seaborn",
      "metadata": {
        "trusted": true
      },
      "outputs": [],
      "execution_count": 124
    },
    {
      "cell_type": "code",
      "source": "# Import libraries and packages\nimport numpy as np\nimport pandas as pd\nimport datetime as dt\nimport matplotlib.pyplot as plt\nimport seaborn as sns\nfrom sklearn.ensemble import RandomForestClassifier\nfrom sklearn.model_selection import GridSearchCV, train_test_split\nfrom sklearn.metrics import precision_score, recall_score, accuracy_score, f1_score, \\\nconfusion_matrix, ConfusionMatrixDisplay",
      "metadata": {
        "trusted": true
      },
      "outputs": [],
      "execution_count": 125
    },
    {
      "cell_type": "code",
      "source": "# Modifying pandas to display all columns\npd.set_option('display.max_columns', None)",
      "metadata": {
        "trusted": true
      },
      "outputs": [],
      "execution_count": 126
    },
    {
      "cell_type": "code",
      "source": "# Import the dataset\ncompanies = pd.read_csv('Modified_Unicorn_Companies.csv')",
      "metadata": {
        "trusted": true
      },
      "outputs": [],
      "execution_count": 127
    },
    {
      "cell_type": "code",
      "source": "# Display the first five rows\ncompanies.head(n=5)",
      "metadata": {
        "trusted": true
      },
      "outputs": [
        {
          "execution_count": 128,
          "output_type": "execute_result",
          "data": {
            "text/plain": "     Company  Valuation Date Joined                         Industry  \\\n0  Bytedance        180  2017-04-07          Artificial intelligence   \n1     SpaceX        100  2012-12-01                            Other   \n2      SHEIN        100  2018-07-03  E-commerce & direct-to-consumer   \n3     Stripe         95  2014-01-23                          FinTech   \n4     Klarna         46  2011-12-12                          Fintech   \n\n            City Country/Region      Continent  Year Founded Funding  \\\n0        Beijing          China           Asia          2012     $8B   \n1      Hawthorne  United States  North America          2002     $7B   \n2       Shenzhen          China           Asia          2008     $2B   \n3  San Francisco  United States  North America          2010     $2B   \n4      Stockholm         Sweden         Europe          2005     $4B   \n\n                                    Select Investors  \n0  Sequoia Capital China, SIG Asia Investments, S...  \n1  Founders Fund, Draper Fisher Jurvetson, Rothen...  \n2  Tiger Global Management, Sequoia Capital China...  \n3        Khosla Ventures, LowercaseCapital, capitalG  \n4  Institutional Venture Partners, Sequoia Capita...  ",
            "text/html": "<div>\n<style scoped>\n    .dataframe tbody tr th:only-of-type {\n        vertical-align: middle;\n    }\n\n    .dataframe tbody tr th {\n        vertical-align: top;\n    }\n\n    .dataframe thead th {\n        text-align: right;\n    }\n</style>\n<table border=\"1\" class=\"dataframe\">\n  <thead>\n    <tr style=\"text-align: right;\">\n      <th></th>\n      <th>Company</th>\n      <th>Valuation</th>\n      <th>Date Joined</th>\n      <th>Industry</th>\n      <th>City</th>\n      <th>Country/Region</th>\n      <th>Continent</th>\n      <th>Year Founded</th>\n      <th>Funding</th>\n      <th>Select Investors</th>\n    </tr>\n  </thead>\n  <tbody>\n    <tr>\n      <th>0</th>\n      <td>Bytedance</td>\n      <td>180</td>\n      <td>2017-04-07</td>\n      <td>Artificial intelligence</td>\n      <td>Beijing</td>\n      <td>China</td>\n      <td>Asia</td>\n      <td>2012</td>\n      <td>$8B</td>\n      <td>Sequoia Capital China, SIG Asia Investments, S...</td>\n    </tr>\n    <tr>\n      <th>1</th>\n      <td>SpaceX</td>\n      <td>100</td>\n      <td>2012-12-01</td>\n      <td>Other</td>\n      <td>Hawthorne</td>\n      <td>United States</td>\n      <td>North America</td>\n      <td>2002</td>\n      <td>$7B</td>\n      <td>Founders Fund, Draper Fisher Jurvetson, Rothen...</td>\n    </tr>\n    <tr>\n      <th>2</th>\n      <td>SHEIN</td>\n      <td>100</td>\n      <td>2018-07-03</td>\n      <td>E-commerce &amp; direct-to-consumer</td>\n      <td>Shenzhen</td>\n      <td>China</td>\n      <td>Asia</td>\n      <td>2008</td>\n      <td>$2B</td>\n      <td>Tiger Global Management, Sequoia Capital China...</td>\n    </tr>\n    <tr>\n      <th>3</th>\n      <td>Stripe</td>\n      <td>95</td>\n      <td>2014-01-23</td>\n      <td>FinTech</td>\n      <td>San Francisco</td>\n      <td>United States</td>\n      <td>North America</td>\n      <td>2010</td>\n      <td>$2B</td>\n      <td>Khosla Ventures, LowercaseCapital, capitalG</td>\n    </tr>\n    <tr>\n      <th>4</th>\n      <td>Klarna</td>\n      <td>46</td>\n      <td>2011-12-12</td>\n      <td>Fintech</td>\n      <td>Stockholm</td>\n      <td>Sweden</td>\n      <td>Europe</td>\n      <td>2005</td>\n      <td>$4B</td>\n      <td>Institutional Venture Partners, Sequoia Capita...</td>\n    </tr>\n  </tbody>\n</table>\n</div>"
          },
          "metadata": {}
        }
      ],
      "execution_count": 128
    },
    {
      "cell_type": "code",
      "source": "# Display the data types of the columns\ncompanies.info()",
      "metadata": {
        "trusted": true
      },
      "outputs": [
        {
          "name": "stdout",
          "text": "<class 'pandas.core.frame.DataFrame'>\nRangeIndex: 1074 entries, 0 to 1073\nData columns (total 10 columns):\n #   Column            Non-Null Count  Dtype \n---  ------            --------------  ----- \n 0   Company           1074 non-null   object\n 1   Valuation         1074 non-null   int64 \n 2   Date Joined       1074 non-null   object\n 3   Industry          1074 non-null   object\n 4   City              1057 non-null   object\n 5   Country/Region    1074 non-null   object\n 6   Continent         1074 non-null   object\n 7   Year Founded      1074 non-null   int64 \n 8   Funding           1074 non-null   object\n 9   Select Investors  1074 non-null   object\ndtypes: int64(2), object(8)\nmemory usage: 50.4+ KB\n",
          "output_type": "stream"
        }
      ],
      "execution_count": 129
    },
    {
      "cell_type": "code",
      "source": "# Convert Date Joined column to datetime\ncompanies['Date Joined'] = pd.to_datetime(companies['Date Joined'])\ncompanies.dtypes",
      "metadata": {
        "trusted": true
      },
      "outputs": [
        {
          "execution_count": 130,
          "output_type": "execute_result",
          "data": {
            "text/plain": "Company                     object\nValuation                    int64\nDate Joined         datetime64[ns]\nIndustry                    object\nCity                        object\nCountry/Region              object\nContinent                   object\nYear Founded                 int64\nFunding                     object\nSelect Investors            object\ndtype: object"
          },
          "metadata": {}
        }
      ],
      "execution_count": 130
    },
    {
      "cell_type": "code",
      "source": "# Create a column called Years To Unicorn\ncompanies['Years To Unicorn'] = companies['Date Joined'].dt.year - companies['Year Founded']\ncompanies.head()",
      "metadata": {
        "trusted": true
      },
      "outputs": [
        {
          "execution_count": 131,
          "output_type": "execute_result",
          "data": {
            "text/plain": "     Company  Valuation Date Joined                         Industry  \\\n0  Bytedance        180  2017-04-07          Artificial intelligence   \n1     SpaceX        100  2012-12-01                            Other   \n2      SHEIN        100  2018-07-03  E-commerce & direct-to-consumer   \n3     Stripe         95  2014-01-23                          FinTech   \n4     Klarna         46  2011-12-12                          Fintech   \n\n            City Country/Region      Continent  Year Founded Funding  \\\n0        Beijing          China           Asia          2012     $8B   \n1      Hawthorne  United States  North America          2002     $7B   \n2       Shenzhen          China           Asia          2008     $2B   \n3  San Francisco  United States  North America          2010     $2B   \n4      Stockholm         Sweden         Europe          2005     $4B   \n\n                                    Select Investors  Years To Unicorn  \n0  Sequoia Capital China, SIG Asia Investments, S...                 5  \n1  Founders Fund, Draper Fisher Jurvetson, Rothen...                10  \n2  Tiger Global Management, Sequoia Capital China...                10  \n3        Khosla Ventures, LowercaseCapital, capitalG                 4  \n4  Institutional Venture Partners, Sequoia Capita...                 6  ",
            "text/html": "<div>\n<style scoped>\n    .dataframe tbody tr th:only-of-type {\n        vertical-align: middle;\n    }\n\n    .dataframe tbody tr th {\n        vertical-align: top;\n    }\n\n    .dataframe thead th {\n        text-align: right;\n    }\n</style>\n<table border=\"1\" class=\"dataframe\">\n  <thead>\n    <tr style=\"text-align: right;\">\n      <th></th>\n      <th>Company</th>\n      <th>Valuation</th>\n      <th>Date Joined</th>\n      <th>Industry</th>\n      <th>City</th>\n      <th>Country/Region</th>\n      <th>Continent</th>\n      <th>Year Founded</th>\n      <th>Funding</th>\n      <th>Select Investors</th>\n      <th>Years To Unicorn</th>\n    </tr>\n  </thead>\n  <tbody>\n    <tr>\n      <th>0</th>\n      <td>Bytedance</td>\n      <td>180</td>\n      <td>2017-04-07</td>\n      <td>Artificial intelligence</td>\n      <td>Beijing</td>\n      <td>China</td>\n      <td>Asia</td>\n      <td>2012</td>\n      <td>$8B</td>\n      <td>Sequoia Capital China, SIG Asia Investments, S...</td>\n      <td>5</td>\n    </tr>\n    <tr>\n      <th>1</th>\n      <td>SpaceX</td>\n      <td>100</td>\n      <td>2012-12-01</td>\n      <td>Other</td>\n      <td>Hawthorne</td>\n      <td>United States</td>\n      <td>North America</td>\n      <td>2002</td>\n      <td>$7B</td>\n      <td>Founders Fund, Draper Fisher Jurvetson, Rothen...</td>\n      <td>10</td>\n    </tr>\n    <tr>\n      <th>2</th>\n      <td>SHEIN</td>\n      <td>100</td>\n      <td>2018-07-03</td>\n      <td>E-commerce &amp; direct-to-consumer</td>\n      <td>Shenzhen</td>\n      <td>China</td>\n      <td>Asia</td>\n      <td>2008</td>\n      <td>$2B</td>\n      <td>Tiger Global Management, Sequoia Capital China...</td>\n      <td>10</td>\n    </tr>\n    <tr>\n      <th>3</th>\n      <td>Stripe</td>\n      <td>95</td>\n      <td>2014-01-23</td>\n      <td>FinTech</td>\n      <td>San Francisco</td>\n      <td>United States</td>\n      <td>North America</td>\n      <td>2010</td>\n      <td>$2B</td>\n      <td>Khosla Ventures, LowercaseCapital, capitalG</td>\n      <td>4</td>\n    </tr>\n    <tr>\n      <th>4</th>\n      <td>Klarna</td>\n      <td>46</td>\n      <td>2011-12-12</td>\n      <td>Fintech</td>\n      <td>Stockholm</td>\n      <td>Sweden</td>\n      <td>Europe</td>\n      <td>2005</td>\n      <td>$4B</td>\n      <td>Institutional Venture Partners, Sequoia Capita...</td>\n      <td>6</td>\n    </tr>\n  </tbody>\n</table>\n</div>"
          },
          "metadata": {}
        }
      ],
      "execution_count": 131
    },
    {
      "cell_type": "code",
      "source": "# Identify any issues with our data\ncompanies.describe(include='all', datetime_is_numeric=True)",
      "metadata": {
        "trusted": true
      },
      "outputs": [
        {
          "execution_count": 132,
          "output_type": "execute_result",
          "data": {
            "text/plain": "        Company    Valuation                    Date Joined Industry  \\\ncount      1074  1074.000000                           1074     1074   \nunique     1071          NaN                            NaN       18   \ntop     BrewDog          NaN                            NaN  Fintech   \nfreq          2          NaN                            NaN      204   \nmean        NaN     3.445996  2020-05-14 20:22:47.597765376      NaN   \nmin         NaN     1.000000            2007-07-02 00:00:00      NaN   \n25%         NaN     1.000000            2019-05-15 06:00:00      NaN   \n50%         NaN     2.000000            2021-03-26 00:00:00      NaN   \n75%         NaN     3.000000            2021-09-16 00:00:00      NaN   \nmax         NaN   180.000000            2022-04-05 00:00:00      NaN   \nstd         NaN     8.544242                            NaN      NaN   \n\n                 City Country/Region      Continent  Year Founded Funding  \\\ncount            1057           1074           1074   1074.000000    1074   \nunique            256             47              6           NaN     538   \ntop     San Francisco  United States  North America           NaN     $1B   \nfreq              149            561            588           NaN      59   \nmean              NaN            NaN            NaN   2012.870577     NaN   \nmin               NaN            NaN            NaN   1919.000000     NaN   \n25%               NaN            NaN            NaN   2011.000000     NaN   \n50%               NaN            NaN            NaN   2014.000000     NaN   \n75%               NaN            NaN            NaN   2016.000000     NaN   \nmax               NaN            NaN            NaN   2021.000000     NaN   \nstd               NaN            NaN            NaN      5.705494     NaN   \n\n       Select Investors  Years To Unicorn  \ncount              1074       1074.000000  \nunique             1059               NaN  \ntop     Sequoia Capital               NaN  \nfreq                  3               NaN  \nmean                NaN          7.013035  \nmin                 NaN         -3.000000  \n25%                 NaN          4.000000  \n50%                 NaN          6.000000  \n75%                 NaN          9.000000  \nmax                 NaN         98.000000  \nstd                 NaN          5.331842  ",
            "text/html": "<div>\n<style scoped>\n    .dataframe tbody tr th:only-of-type {\n        vertical-align: middle;\n    }\n\n    .dataframe tbody tr th {\n        vertical-align: top;\n    }\n\n    .dataframe thead th {\n        text-align: right;\n    }\n</style>\n<table border=\"1\" class=\"dataframe\">\n  <thead>\n    <tr style=\"text-align: right;\">\n      <th></th>\n      <th>Company</th>\n      <th>Valuation</th>\n      <th>Date Joined</th>\n      <th>Industry</th>\n      <th>City</th>\n      <th>Country/Region</th>\n      <th>Continent</th>\n      <th>Year Founded</th>\n      <th>Funding</th>\n      <th>Select Investors</th>\n      <th>Years To Unicorn</th>\n    </tr>\n  </thead>\n  <tbody>\n    <tr>\n      <th>count</th>\n      <td>1074</td>\n      <td>1074.000000</td>\n      <td>1074</td>\n      <td>1074</td>\n      <td>1057</td>\n      <td>1074</td>\n      <td>1074</td>\n      <td>1074.000000</td>\n      <td>1074</td>\n      <td>1074</td>\n      <td>1074.000000</td>\n    </tr>\n    <tr>\n      <th>unique</th>\n      <td>1071</td>\n      <td>NaN</td>\n      <td>NaN</td>\n      <td>18</td>\n      <td>256</td>\n      <td>47</td>\n      <td>6</td>\n      <td>NaN</td>\n      <td>538</td>\n      <td>1059</td>\n      <td>NaN</td>\n    </tr>\n    <tr>\n      <th>top</th>\n      <td>BrewDog</td>\n      <td>NaN</td>\n      <td>NaN</td>\n      <td>Fintech</td>\n      <td>San Francisco</td>\n      <td>United States</td>\n      <td>North America</td>\n      <td>NaN</td>\n      <td>$1B</td>\n      <td>Sequoia Capital</td>\n      <td>NaN</td>\n    </tr>\n    <tr>\n      <th>freq</th>\n      <td>2</td>\n      <td>NaN</td>\n      <td>NaN</td>\n      <td>204</td>\n      <td>149</td>\n      <td>561</td>\n      <td>588</td>\n      <td>NaN</td>\n      <td>59</td>\n      <td>3</td>\n      <td>NaN</td>\n    </tr>\n    <tr>\n      <th>mean</th>\n      <td>NaN</td>\n      <td>3.445996</td>\n      <td>2020-05-14 20:22:47.597765376</td>\n      <td>NaN</td>\n      <td>NaN</td>\n      <td>NaN</td>\n      <td>NaN</td>\n      <td>2012.870577</td>\n      <td>NaN</td>\n      <td>NaN</td>\n      <td>7.013035</td>\n    </tr>\n    <tr>\n      <th>min</th>\n      <td>NaN</td>\n      <td>1.000000</td>\n      <td>2007-07-02 00:00:00</td>\n      <td>NaN</td>\n      <td>NaN</td>\n      <td>NaN</td>\n      <td>NaN</td>\n      <td>1919.000000</td>\n      <td>NaN</td>\n      <td>NaN</td>\n      <td>-3.000000</td>\n    </tr>\n    <tr>\n      <th>25%</th>\n      <td>NaN</td>\n      <td>1.000000</td>\n      <td>2019-05-15 06:00:00</td>\n      <td>NaN</td>\n      <td>NaN</td>\n      <td>NaN</td>\n      <td>NaN</td>\n      <td>2011.000000</td>\n      <td>NaN</td>\n      <td>NaN</td>\n      <td>4.000000</td>\n    </tr>\n    <tr>\n      <th>50%</th>\n      <td>NaN</td>\n      <td>2.000000</td>\n      <td>2021-03-26 00:00:00</td>\n      <td>NaN</td>\n      <td>NaN</td>\n      <td>NaN</td>\n      <td>NaN</td>\n      <td>2014.000000</td>\n      <td>NaN</td>\n      <td>NaN</td>\n      <td>6.000000</td>\n    </tr>\n    <tr>\n      <th>75%</th>\n      <td>NaN</td>\n      <td>3.000000</td>\n      <td>2021-09-16 00:00:00</td>\n      <td>NaN</td>\n      <td>NaN</td>\n      <td>NaN</td>\n      <td>NaN</td>\n      <td>2016.000000</td>\n      <td>NaN</td>\n      <td>NaN</td>\n      <td>9.000000</td>\n    </tr>\n    <tr>\n      <th>max</th>\n      <td>NaN</td>\n      <td>180.000000</td>\n      <td>2022-04-05 00:00:00</td>\n      <td>NaN</td>\n      <td>NaN</td>\n      <td>NaN</td>\n      <td>NaN</td>\n      <td>2021.000000</td>\n      <td>NaN</td>\n      <td>NaN</td>\n      <td>98.000000</td>\n    </tr>\n    <tr>\n      <th>std</th>\n      <td>NaN</td>\n      <td>8.544242</td>\n      <td>NaN</td>\n      <td>NaN</td>\n      <td>NaN</td>\n      <td>NaN</td>\n      <td>NaN</td>\n      <td>5.705494</td>\n      <td>NaN</td>\n      <td>NaN</td>\n      <td>5.331842</td>\n    </tr>\n  </tbody>\n</table>\n</div>"
          },
          "metadata": {}
        }
      ],
      "execution_count": 132
    },
    {
      "cell_type": "code",
      "source": "# Isolate any rows where Years To Unicorn is negative\ncompanies[companies['Years To Unicorn'] < 0]",
      "metadata": {
        "trusted": true
      },
      "outputs": [
        {
          "execution_count": 133,
          "output_type": "execute_result",
          "data": {
            "text/plain": "      Company  Valuation Date Joined                      Industry      City  \\\n527  InVision          2  2017-11-01  Internet software & services  New York   \n\n    Country/Region      Continent  Year Founded Funding  \\\n527  United States  North America          2020   $349M   \n\n                                      Select Investors  Years To Unicorn  \n527  FirstMark Capital, Tiger Global Management, IC...                -3  ",
            "text/html": "<div>\n<style scoped>\n    .dataframe tbody tr th:only-of-type {\n        vertical-align: middle;\n    }\n\n    .dataframe tbody tr th {\n        vertical-align: top;\n    }\n\n    .dataframe thead th {\n        text-align: right;\n    }\n</style>\n<table border=\"1\" class=\"dataframe\">\n  <thead>\n    <tr style=\"text-align: right;\">\n      <th></th>\n      <th>Company</th>\n      <th>Valuation</th>\n      <th>Date Joined</th>\n      <th>Industry</th>\n      <th>City</th>\n      <th>Country/Region</th>\n      <th>Continent</th>\n      <th>Year Founded</th>\n      <th>Funding</th>\n      <th>Select Investors</th>\n      <th>Years To Unicorn</th>\n    </tr>\n  </thead>\n  <tbody>\n    <tr>\n      <th>527</th>\n      <td>InVision</td>\n      <td>2</td>\n      <td>2017-11-01</td>\n      <td>Internet software &amp; services</td>\n      <td>New York</td>\n      <td>United States</td>\n      <td>North America</td>\n      <td>2020</td>\n      <td>$349M</td>\n      <td>FirstMark Capital, Tiger Global Management, IC...</td>\n      <td>-3</td>\n    </tr>\n  </tbody>\n</table>\n</div>"
          },
          "metadata": {}
        }
      ],
      "execution_count": 133
    },
    {
      "cell_type": "code",
      "source": "# Replace InVision's Year Founded value with 2011\ncompanies.loc[companies['Years To Unicorn'] < 0, 'Year Founded'] = 2011\n\n# Verify the change was made\ncompanies[companies['Years To Unicorn'] < 0]",
      "metadata": {
        "trusted": true
      },
      "outputs": [
        {
          "execution_count": 134,
          "output_type": "execute_result",
          "data": {
            "text/plain": "      Company  Valuation Date Joined                      Industry      City  \\\n527  InVision          2  2017-11-01  Internet software & services  New York   \n\n    Country/Region      Continent  Year Founded Funding  \\\n527  United States  North America          2011   $349M   \n\n                                      Select Investors  Years To Unicorn  \n527  FirstMark Capital, Tiger Global Management, IC...                -3  ",
            "text/html": "<div>\n<style scoped>\n    .dataframe tbody tr th:only-of-type {\n        vertical-align: middle;\n    }\n\n    .dataframe tbody tr th {\n        vertical-align: top;\n    }\n\n    .dataframe thead th {\n        text-align: right;\n    }\n</style>\n<table border=\"1\" class=\"dataframe\">\n  <thead>\n    <tr style=\"text-align: right;\">\n      <th></th>\n      <th>Company</th>\n      <th>Valuation</th>\n      <th>Date Joined</th>\n      <th>Industry</th>\n      <th>City</th>\n      <th>Country/Region</th>\n      <th>Continent</th>\n      <th>Year Founded</th>\n      <th>Funding</th>\n      <th>Select Investors</th>\n      <th>Years To Unicorn</th>\n    </tr>\n  </thead>\n  <tbody>\n    <tr>\n      <th>527</th>\n      <td>InVision</td>\n      <td>2</td>\n      <td>2017-11-01</td>\n      <td>Internet software &amp; services</td>\n      <td>New York</td>\n      <td>United States</td>\n      <td>North America</td>\n      <td>2011</td>\n      <td>$349M</td>\n      <td>FirstMark Capital, Tiger Global Management, IC...</td>\n      <td>-3</td>\n    </tr>\n  </tbody>\n</table>\n</div>"
          },
          "metadata": {}
        }
      ],
      "execution_count": 134
    },
    {
      "cell_type": "code",
      "source": "# Recalculate all values in the Years To Unicorn column\ncompanies['Years To Unicorn'] = companies['Date Joined'].dt.year - companies['Year Founded']\n\n# Verify that there are no more negative values in the column\ncompanies.describe(include='all', datetime_is_numeric=True)",
      "metadata": {
        "trusted": true
      },
      "outputs": [
        {
          "execution_count": 135,
          "output_type": "execute_result",
          "data": {
            "text/plain": "        Company    Valuation                    Date Joined Industry  \\\ncount      1074  1074.000000                           1074     1074   \nunique     1071          NaN                            NaN       18   \ntop     BrewDog          NaN                            NaN  Fintech   \nfreq          2          NaN                            NaN      204   \nmean        NaN     3.445996  2020-05-14 20:22:47.597765376      NaN   \nmin         NaN     1.000000            2007-07-02 00:00:00      NaN   \n25%         NaN     1.000000            2019-05-15 06:00:00      NaN   \n50%         NaN     2.000000            2021-03-26 00:00:00      NaN   \n75%         NaN     3.000000            2021-09-16 00:00:00      NaN   \nmax         NaN   180.000000            2022-04-05 00:00:00      NaN   \nstd         NaN     8.544242                            NaN      NaN   \n\n                 City Country/Region      Continent  Year Founded Funding  \\\ncount            1057           1074           1074   1074.000000    1074   \nunique            256             47              6           NaN     538   \ntop     San Francisco  United States  North America           NaN     $1B   \nfreq              149            561            588           NaN      59   \nmean              NaN            NaN            NaN   2012.862197     NaN   \nmin               NaN            NaN            NaN   1919.000000     NaN   \n25%               NaN            NaN            NaN   2011.000000     NaN   \n50%               NaN            NaN            NaN   2014.000000     NaN   \n75%               NaN            NaN            NaN   2016.000000     NaN   \nmax               NaN            NaN            NaN   2021.000000     NaN   \nstd               NaN            NaN            NaN      5.701621     NaN   \n\n       Select Investors  Years To Unicorn  \ncount              1074       1074.000000  \nunique             1059               NaN  \ntop     Sequoia Capital               NaN  \nfreq                  3               NaN  \nmean                NaN          7.021415  \nmin                 NaN          0.000000  \n25%                 NaN          4.000000  \n50%                 NaN          6.000000  \n75%                 NaN          9.000000  \nmax                 NaN         98.000000  \nstd                 NaN          5.323155  ",
            "text/html": "<div>\n<style scoped>\n    .dataframe tbody tr th:only-of-type {\n        vertical-align: middle;\n    }\n\n    .dataframe tbody tr th {\n        vertical-align: top;\n    }\n\n    .dataframe thead th {\n        text-align: right;\n    }\n</style>\n<table border=\"1\" class=\"dataframe\">\n  <thead>\n    <tr style=\"text-align: right;\">\n      <th></th>\n      <th>Company</th>\n      <th>Valuation</th>\n      <th>Date Joined</th>\n      <th>Industry</th>\n      <th>City</th>\n      <th>Country/Region</th>\n      <th>Continent</th>\n      <th>Year Founded</th>\n      <th>Funding</th>\n      <th>Select Investors</th>\n      <th>Years To Unicorn</th>\n    </tr>\n  </thead>\n  <tbody>\n    <tr>\n      <th>count</th>\n      <td>1074</td>\n      <td>1074.000000</td>\n      <td>1074</td>\n      <td>1074</td>\n      <td>1057</td>\n      <td>1074</td>\n      <td>1074</td>\n      <td>1074.000000</td>\n      <td>1074</td>\n      <td>1074</td>\n      <td>1074.000000</td>\n    </tr>\n    <tr>\n      <th>unique</th>\n      <td>1071</td>\n      <td>NaN</td>\n      <td>NaN</td>\n      <td>18</td>\n      <td>256</td>\n      <td>47</td>\n      <td>6</td>\n      <td>NaN</td>\n      <td>538</td>\n      <td>1059</td>\n      <td>NaN</td>\n    </tr>\n    <tr>\n      <th>top</th>\n      <td>BrewDog</td>\n      <td>NaN</td>\n      <td>NaN</td>\n      <td>Fintech</td>\n      <td>San Francisco</td>\n      <td>United States</td>\n      <td>North America</td>\n      <td>NaN</td>\n      <td>$1B</td>\n      <td>Sequoia Capital</td>\n      <td>NaN</td>\n    </tr>\n    <tr>\n      <th>freq</th>\n      <td>2</td>\n      <td>NaN</td>\n      <td>NaN</td>\n      <td>204</td>\n      <td>149</td>\n      <td>561</td>\n      <td>588</td>\n      <td>NaN</td>\n      <td>59</td>\n      <td>3</td>\n      <td>NaN</td>\n    </tr>\n    <tr>\n      <th>mean</th>\n      <td>NaN</td>\n      <td>3.445996</td>\n      <td>2020-05-14 20:22:47.597765376</td>\n      <td>NaN</td>\n      <td>NaN</td>\n      <td>NaN</td>\n      <td>NaN</td>\n      <td>2012.862197</td>\n      <td>NaN</td>\n      <td>NaN</td>\n      <td>7.021415</td>\n    </tr>\n    <tr>\n      <th>min</th>\n      <td>NaN</td>\n      <td>1.000000</td>\n      <td>2007-07-02 00:00:00</td>\n      <td>NaN</td>\n      <td>NaN</td>\n      <td>NaN</td>\n      <td>NaN</td>\n      <td>1919.000000</td>\n      <td>NaN</td>\n      <td>NaN</td>\n      <td>0.000000</td>\n    </tr>\n    <tr>\n      <th>25%</th>\n      <td>NaN</td>\n      <td>1.000000</td>\n      <td>2019-05-15 06:00:00</td>\n      <td>NaN</td>\n      <td>NaN</td>\n      <td>NaN</td>\n      <td>NaN</td>\n      <td>2011.000000</td>\n      <td>NaN</td>\n      <td>NaN</td>\n      <td>4.000000</td>\n    </tr>\n    <tr>\n      <th>50%</th>\n      <td>NaN</td>\n      <td>2.000000</td>\n      <td>2021-03-26 00:00:00</td>\n      <td>NaN</td>\n      <td>NaN</td>\n      <td>NaN</td>\n      <td>NaN</td>\n      <td>2014.000000</td>\n      <td>NaN</td>\n      <td>NaN</td>\n      <td>6.000000</td>\n    </tr>\n    <tr>\n      <th>75%</th>\n      <td>NaN</td>\n      <td>3.000000</td>\n      <td>2021-09-16 00:00:00</td>\n      <td>NaN</td>\n      <td>NaN</td>\n      <td>NaN</td>\n      <td>NaN</td>\n      <td>2016.000000</td>\n      <td>NaN</td>\n      <td>NaN</td>\n      <td>9.000000</td>\n    </tr>\n    <tr>\n      <th>max</th>\n      <td>NaN</td>\n      <td>180.000000</td>\n      <td>2022-04-05 00:00:00</td>\n      <td>NaN</td>\n      <td>NaN</td>\n      <td>NaN</td>\n      <td>NaN</td>\n      <td>2021.000000</td>\n      <td>NaN</td>\n      <td>NaN</td>\n      <td>98.000000</td>\n    </tr>\n    <tr>\n      <th>std</th>\n      <td>NaN</td>\n      <td>8.544242</td>\n      <td>NaN</td>\n      <td>NaN</td>\n      <td>NaN</td>\n      <td>NaN</td>\n      <td>NaN</td>\n      <td>5.701621</td>\n      <td>NaN</td>\n      <td>NaN</td>\n      <td>5.323155</td>\n    </tr>\n  </tbody>\n</table>\n</div>"
          },
          "metadata": {}
        }
      ],
      "execution_count": 135
    },
    {
      "cell_type": "code",
      "source": "# List provided by the company of the expected industry labels in the data\nindustry_list = ['Artificial intelligence', 'Other','E-commerce & direct-to-consumer', 'Fintech',\\\n       'Internet software & services','Supply chain, logistics, & delivery', 'Consumer & retail',\\\n       'Data management & analytics', 'Edtech', 'Health', 'Hardware','Auto & transportation', \\\n        'Travel', 'Cybersecurity','Mobile & telecommunications']",
      "metadata": {
        "trusted": true
      },
      "outputs": [],
      "execution_count": 136
    },
    {
      "cell_type": "code",
      "source": "# Check if there are values in Industry but not in industry_list\nset(companies['Industry']).difference(set(industry_list))",
      "metadata": {
        "trusted": true
      },
      "outputs": [
        {
          "execution_count": 137,
          "output_type": "execute_result",
          "data": {
            "text/plain": "{'Artificial Intelligence', 'Data management and analytics', 'FinTech'}"
          },
          "metadata": {}
        }
      ],
      "execution_count": 137
    },
    {
      "cell_type": "code",
      "source": "# Create replacement_dict\nreplacement_dict = {'Artificial Intelligence': 'Artificial intelligence', 'Data management and analytics': 'Data management & analytics', 'FinTech': 'Fintech'}\n\n# Replace the incorrect values in the Industry column\ncompanies['Industry'] = companies['Industry'].replace(replacement_dict)\n\n# Verify that there are no longer any elements in Industry that are not in industry_list\nset(companies['Industry']).difference(set(industry_list))",
      "metadata": {
        "trusted": true
      },
      "outputs": [
        {
          "execution_count": 138,
          "output_type": "execute_result",
          "data": {
            "text/plain": "set()"
          },
          "metadata": {}
        }
      ],
      "execution_count": 138
    },
    {
      "cell_type": "code",
      "source": "# Identify if there are duplicate rows\ncompanies['Company'].drop_duplicates().size == companies['Company'].size",
      "metadata": {
        "trusted": true
      },
      "outputs": [
        {
          "execution_count": 139,
          "output_type": "execute_result",
          "data": {
            "text/plain": "False"
          },
          "metadata": {}
        }
      ],
      "execution_count": 139
    },
    {
      "cell_type": "code",
      "source": "# Isolate rows of all companies that have duplicates\ncompanies[companies.duplicated(subset=['Company'], keep=False)]",
      "metadata": {
        "trusted": true
      },
      "outputs": [
        {
          "execution_count": 140,
          "output_type": "execute_result",
          "data": {
            "text/plain": "         Company  Valuation Date Joined                 Industry         City  \\\n385      BrewDog          2  2017-04-10        Consumer & retail     Aberdeen   \n386      BrewDog          2  2017-04-10        Consumer & retail     Aberdeen   \n510       ZocDoc          2  2015-08-20                   Health     New York   \n511       ZocDoc          2  2015-08-20                   Health          NaN   \n1031  SoundHound          1  2018-05-03  Artificial intelligence  Santa Clara   \n1032  SoundHound          1  2018-05-03                    Other  Santa Clara   \n\n      Country/Region      Continent  Year Founded Funding  \\\n385   United Kingdom         Europe          2007   $233M   \n386    UnitedKingdom         Europe          2007   $233M   \n510    United States  North America          2007   $374M   \n511    United States  North America          2007   $374M   \n1031   United States  North America          2005   $215M   \n1032   United States  North America          2005   $215M   \n\n                                       Select Investors  Years To Unicorn  \n385                    TSG Consumer Partners, Crowdcube                10  \n386                               TSG Consumer Partners                10  \n510       Founders Fund, Khosla Ventures, Goldman Sachs                 8  \n511                                       Founders Fund                 8  \n1031  Tencent Holdings, Walden Venture Capital, Glob...                13  \n1032                                   Tencent Holdings                13  ",
            "text/html": "<div>\n<style scoped>\n    .dataframe tbody tr th:only-of-type {\n        vertical-align: middle;\n    }\n\n    .dataframe tbody tr th {\n        vertical-align: top;\n    }\n\n    .dataframe thead th {\n        text-align: right;\n    }\n</style>\n<table border=\"1\" class=\"dataframe\">\n  <thead>\n    <tr style=\"text-align: right;\">\n      <th></th>\n      <th>Company</th>\n      <th>Valuation</th>\n      <th>Date Joined</th>\n      <th>Industry</th>\n      <th>City</th>\n      <th>Country/Region</th>\n      <th>Continent</th>\n      <th>Year Founded</th>\n      <th>Funding</th>\n      <th>Select Investors</th>\n      <th>Years To Unicorn</th>\n    </tr>\n  </thead>\n  <tbody>\n    <tr>\n      <th>385</th>\n      <td>BrewDog</td>\n      <td>2</td>\n      <td>2017-04-10</td>\n      <td>Consumer &amp; retail</td>\n      <td>Aberdeen</td>\n      <td>United Kingdom</td>\n      <td>Europe</td>\n      <td>2007</td>\n      <td>$233M</td>\n      <td>TSG Consumer Partners, Crowdcube</td>\n      <td>10</td>\n    </tr>\n    <tr>\n      <th>386</th>\n      <td>BrewDog</td>\n      <td>2</td>\n      <td>2017-04-10</td>\n      <td>Consumer &amp; retail</td>\n      <td>Aberdeen</td>\n      <td>UnitedKingdom</td>\n      <td>Europe</td>\n      <td>2007</td>\n      <td>$233M</td>\n      <td>TSG Consumer Partners</td>\n      <td>10</td>\n    </tr>\n    <tr>\n      <th>510</th>\n      <td>ZocDoc</td>\n      <td>2</td>\n      <td>2015-08-20</td>\n      <td>Health</td>\n      <td>New York</td>\n      <td>United States</td>\n      <td>North America</td>\n      <td>2007</td>\n      <td>$374M</td>\n      <td>Founders Fund, Khosla Ventures, Goldman Sachs</td>\n      <td>8</td>\n    </tr>\n    <tr>\n      <th>511</th>\n      <td>ZocDoc</td>\n      <td>2</td>\n      <td>2015-08-20</td>\n      <td>Health</td>\n      <td>NaN</td>\n      <td>United States</td>\n      <td>North America</td>\n      <td>2007</td>\n      <td>$374M</td>\n      <td>Founders Fund</td>\n      <td>8</td>\n    </tr>\n    <tr>\n      <th>1031</th>\n      <td>SoundHound</td>\n      <td>1</td>\n      <td>2018-05-03</td>\n      <td>Artificial intelligence</td>\n      <td>Santa Clara</td>\n      <td>United States</td>\n      <td>North America</td>\n      <td>2005</td>\n      <td>$215M</td>\n      <td>Tencent Holdings, Walden Venture Capital, Glob...</td>\n      <td>13</td>\n    </tr>\n    <tr>\n      <th>1032</th>\n      <td>SoundHound</td>\n      <td>1</td>\n      <td>2018-05-03</td>\n      <td>Other</td>\n      <td>Santa Clara</td>\n      <td>United States</td>\n      <td>North America</td>\n      <td>2005</td>\n      <td>$215M</td>\n      <td>Tencent Holdings</td>\n      <td>13</td>\n    </tr>\n  </tbody>\n</table>\n</div>"
          },
          "metadata": {}
        }
      ],
      "execution_count": 140
    },
    {
      "cell_type": "code",
      "source": "# Drop rows of duplicate companies after their first occurance\ncompanies = companies.drop_duplicates(subset=['Company'], keep='first')",
      "metadata": {
        "trusted": true
      },
      "outputs": [],
      "execution_count": 141
    },
    {
      "cell_type": "code",
      "source": "# Verify the duplicates are dropped\ncompanies[companies.duplicated(subset=['Company'], keep=False)]",
      "metadata": {
        "trusted": true
      },
      "outputs": [
        {
          "execution_count": 142,
          "output_type": "execute_result",
          "data": {
            "text/plain": "Empty DataFrame\nColumns: [Company, Valuation, Date Joined, Industry, City, Country/Region, Continent, Year Founded, Funding, Select Investors, Years To Unicorn]\nIndex: []",
            "text/html": "<div>\n<style scoped>\n    .dataframe tbody tr th:only-of-type {\n        vertical-align: middle;\n    }\n\n    .dataframe tbody tr th {\n        vertical-align: top;\n    }\n\n    .dataframe thead th {\n        text-align: right;\n    }\n</style>\n<table border=\"1\" class=\"dataframe\">\n  <thead>\n    <tr style=\"text-align: right;\">\n      <th></th>\n      <th>Company</th>\n      <th>Valuation</th>\n      <th>Date Joined</th>\n      <th>Industry</th>\n      <th>City</th>\n      <th>Country/Region</th>\n      <th>Continent</th>\n      <th>Year Founded</th>\n      <th>Funding</th>\n      <th>Select Investors</th>\n      <th>Years To Unicorn</th>\n    </tr>\n  </thead>\n  <tbody>\n  </tbody>\n</table>\n</div>"
          },
          "metadata": {}
        }
      ],
      "execution_count": 142
    },
    {
      "cell_type": "code",
      "source": "# Create new High Valuation column\n# Use qcut to divide Valuation into high and low Valuation groups\ncompanies['High Valuation'] = pd.qcut(\n    companies['Valuation'],\n    2,\n    labels = [0, 1])\n\n# Show the new column\ncompanies.head()",
      "metadata": {
        "trusted": true
      },
      "outputs": [
        {
          "execution_count": 143,
          "output_type": "execute_result",
          "data": {
            "text/plain": "     Company  Valuation Date Joined                         Industry  \\\n0  Bytedance        180  2017-04-07          Artificial intelligence   \n1     SpaceX        100  2012-12-01                            Other   \n2      SHEIN        100  2018-07-03  E-commerce & direct-to-consumer   \n3     Stripe         95  2014-01-23                          Fintech   \n4     Klarna         46  2011-12-12                          Fintech   \n\n            City Country/Region      Continent  Year Founded Funding  \\\n0        Beijing          China           Asia          2012     $8B   \n1      Hawthorne  United States  North America          2002     $7B   \n2       Shenzhen          China           Asia          2008     $2B   \n3  San Francisco  United States  North America          2010     $2B   \n4      Stockholm         Sweden         Europe          2005     $4B   \n\n                                    Select Investors  Years To Unicorn  \\\n0  Sequoia Capital China, SIG Asia Investments, S...                 5   \n1  Founders Fund, Draper Fisher Jurvetson, Rothen...                10   \n2  Tiger Global Management, Sequoia Capital China...                10   \n3        Khosla Ventures, LowercaseCapital, capitalG                 4   \n4  Institutional Venture Partners, Sequoia Capita...                 6   \n\n  High Valuation  \n0              1  \n1              1  \n2              1  \n3              1  \n4              1  ",
            "text/html": "<div>\n<style scoped>\n    .dataframe tbody tr th:only-of-type {\n        vertical-align: middle;\n    }\n\n    .dataframe tbody tr th {\n        vertical-align: top;\n    }\n\n    .dataframe thead th {\n        text-align: right;\n    }\n</style>\n<table border=\"1\" class=\"dataframe\">\n  <thead>\n    <tr style=\"text-align: right;\">\n      <th></th>\n      <th>Company</th>\n      <th>Valuation</th>\n      <th>Date Joined</th>\n      <th>Industry</th>\n      <th>City</th>\n      <th>Country/Region</th>\n      <th>Continent</th>\n      <th>Year Founded</th>\n      <th>Funding</th>\n      <th>Select Investors</th>\n      <th>Years To Unicorn</th>\n      <th>High Valuation</th>\n    </tr>\n  </thead>\n  <tbody>\n    <tr>\n      <th>0</th>\n      <td>Bytedance</td>\n      <td>180</td>\n      <td>2017-04-07</td>\n      <td>Artificial intelligence</td>\n      <td>Beijing</td>\n      <td>China</td>\n      <td>Asia</td>\n      <td>2012</td>\n      <td>$8B</td>\n      <td>Sequoia Capital China, SIG Asia Investments, S...</td>\n      <td>5</td>\n      <td>1</td>\n    </tr>\n    <tr>\n      <th>1</th>\n      <td>SpaceX</td>\n      <td>100</td>\n      <td>2012-12-01</td>\n      <td>Other</td>\n      <td>Hawthorne</td>\n      <td>United States</td>\n      <td>North America</td>\n      <td>2002</td>\n      <td>$7B</td>\n      <td>Founders Fund, Draper Fisher Jurvetson, Rothen...</td>\n      <td>10</td>\n      <td>1</td>\n    </tr>\n    <tr>\n      <th>2</th>\n      <td>SHEIN</td>\n      <td>100</td>\n      <td>2018-07-03</td>\n      <td>E-commerce &amp; direct-to-consumer</td>\n      <td>Shenzhen</td>\n      <td>China</td>\n      <td>Asia</td>\n      <td>2008</td>\n      <td>$2B</td>\n      <td>Tiger Global Management, Sequoia Capital China...</td>\n      <td>10</td>\n      <td>1</td>\n    </tr>\n    <tr>\n      <th>3</th>\n      <td>Stripe</td>\n      <td>95</td>\n      <td>2014-01-23</td>\n      <td>Fintech</td>\n      <td>San Francisco</td>\n      <td>United States</td>\n      <td>North America</td>\n      <td>2010</td>\n      <td>$2B</td>\n      <td>Khosla Ventures, LowercaseCapital, capitalG</td>\n      <td>4</td>\n      <td>1</td>\n    </tr>\n    <tr>\n      <th>4</th>\n      <td>Klarna</td>\n      <td>46</td>\n      <td>2011-12-12</td>\n      <td>Fintech</td>\n      <td>Stockholm</td>\n      <td>Sweden</td>\n      <td>Europe</td>\n      <td>2005</td>\n      <td>$4B</td>\n      <td>Institutional Venture Partners, Sequoia Capita...</td>\n      <td>6</td>\n      <td>1</td>\n    </tr>\n  </tbody>\n</table>\n</div>"
          },
          "metadata": {}
        }
      ],
      "execution_count": 143
    },
    {
      "cell_type": "code",
      "source": "# Rank the continents by number of unicorn companies\ncompanies.groupby('Continent')['Company'].count().sort_values(ascending=False).reset_index()",
      "metadata": {
        "trusted": true
      },
      "outputs": [
        {
          "execution_count": 144,
          "output_type": "execute_result",
          "data": {
            "text/plain": "       Continent  Company\n0  North America      586\n1           Asia      310\n2         Europe      143\n3  South America       21\n4        Oceania        8\n5         Africa        3",
            "text/html": "<div>\n<style scoped>\n    .dataframe tbody tr th:only-of-type {\n        vertical-align: middle;\n    }\n\n    .dataframe tbody tr th {\n        vertical-align: top;\n    }\n\n    .dataframe thead th {\n        text-align: right;\n    }\n</style>\n<table border=\"1\" class=\"dataframe\">\n  <thead>\n    <tr style=\"text-align: right;\">\n      <th></th>\n      <th>Continent</th>\n      <th>Company</th>\n    </tr>\n  </thead>\n  <tbody>\n    <tr>\n      <th>0</th>\n      <td>North America</td>\n      <td>586</td>\n    </tr>\n    <tr>\n      <th>1</th>\n      <td>Asia</td>\n      <td>310</td>\n    </tr>\n    <tr>\n      <th>2</th>\n      <td>Europe</td>\n      <td>143</td>\n    </tr>\n    <tr>\n      <th>3</th>\n      <td>South America</td>\n      <td>21</td>\n    </tr>\n    <tr>\n      <th>4</th>\n      <td>Oceania</td>\n      <td>8</td>\n    </tr>\n    <tr>\n      <th>5</th>\n      <td>Africa</td>\n      <td>3</td>\n    </tr>\n  </tbody>\n</table>\n</div>"
          },
          "metadata": {}
        }
      ],
      "execution_count": 144
    },
    {
      "cell_type": "code",
      "source": "# Create numeric Continent Number column\ncontinent_dict = {'North America': 1,\n                  'Asia': 2,\n                  'Europe': 3,\n                  'South America': 4,\n                  'Oceania': 5,\n                  'Africa': 6\n                 }\ncompanies['Continent Number'] = companies['Continent'].replace(continent_dict)\ncompanies.head()",
      "metadata": {
        "trusted": true
      },
      "outputs": [
        {
          "execution_count": 145,
          "output_type": "execute_result",
          "data": {
            "text/plain": "     Company  Valuation Date Joined                         Industry  \\\n0  Bytedance        180  2017-04-07          Artificial intelligence   \n1     SpaceX        100  2012-12-01                            Other   \n2      SHEIN        100  2018-07-03  E-commerce & direct-to-consumer   \n3     Stripe         95  2014-01-23                          Fintech   \n4     Klarna         46  2011-12-12                          Fintech   \n\n            City Country/Region      Continent  Year Founded Funding  \\\n0        Beijing          China           Asia          2012     $8B   \n1      Hawthorne  United States  North America          2002     $7B   \n2       Shenzhen          China           Asia          2008     $2B   \n3  San Francisco  United States  North America          2010     $2B   \n4      Stockholm         Sweden         Europe          2005     $4B   \n\n                                    Select Investors  Years To Unicorn  \\\n0  Sequoia Capital China, SIG Asia Investments, S...                 5   \n1  Founders Fund, Draper Fisher Jurvetson, Rothen...                10   \n2  Tiger Global Management, Sequoia Capital China...                10   \n3        Khosla Ventures, LowercaseCapital, capitalG                 4   \n4  Institutional Venture Partners, Sequoia Capita...                 6   \n\n  High Valuation  Continent Number  \n0              1                 2  \n1              1                 1  \n2              1                 2  \n3              1                 1  \n4              1                 3  ",
            "text/html": "<div>\n<style scoped>\n    .dataframe tbody tr th:only-of-type {\n        vertical-align: middle;\n    }\n\n    .dataframe tbody tr th {\n        vertical-align: top;\n    }\n\n    .dataframe thead th {\n        text-align: right;\n    }\n</style>\n<table border=\"1\" class=\"dataframe\">\n  <thead>\n    <tr style=\"text-align: right;\">\n      <th></th>\n      <th>Company</th>\n      <th>Valuation</th>\n      <th>Date Joined</th>\n      <th>Industry</th>\n      <th>City</th>\n      <th>Country/Region</th>\n      <th>Continent</th>\n      <th>Year Founded</th>\n      <th>Funding</th>\n      <th>Select Investors</th>\n      <th>Years To Unicorn</th>\n      <th>High Valuation</th>\n      <th>Continent Number</th>\n    </tr>\n  </thead>\n  <tbody>\n    <tr>\n      <th>0</th>\n      <td>Bytedance</td>\n      <td>180</td>\n      <td>2017-04-07</td>\n      <td>Artificial intelligence</td>\n      <td>Beijing</td>\n      <td>China</td>\n      <td>Asia</td>\n      <td>2012</td>\n      <td>$8B</td>\n      <td>Sequoia Capital China, SIG Asia Investments, S...</td>\n      <td>5</td>\n      <td>1</td>\n      <td>2</td>\n    </tr>\n    <tr>\n      <th>1</th>\n      <td>SpaceX</td>\n      <td>100</td>\n      <td>2012-12-01</td>\n      <td>Other</td>\n      <td>Hawthorne</td>\n      <td>United States</td>\n      <td>North America</td>\n      <td>2002</td>\n      <td>$7B</td>\n      <td>Founders Fund, Draper Fisher Jurvetson, Rothen...</td>\n      <td>10</td>\n      <td>1</td>\n      <td>1</td>\n    </tr>\n    <tr>\n      <th>2</th>\n      <td>SHEIN</td>\n      <td>100</td>\n      <td>2018-07-03</td>\n      <td>E-commerce &amp; direct-to-consumer</td>\n      <td>Shenzhen</td>\n      <td>China</td>\n      <td>Asia</td>\n      <td>2008</td>\n      <td>$2B</td>\n      <td>Tiger Global Management, Sequoia Capital China...</td>\n      <td>10</td>\n      <td>1</td>\n      <td>2</td>\n    </tr>\n    <tr>\n      <th>3</th>\n      <td>Stripe</td>\n      <td>95</td>\n      <td>2014-01-23</td>\n      <td>Fintech</td>\n      <td>San Francisco</td>\n      <td>United States</td>\n      <td>North America</td>\n      <td>2010</td>\n      <td>$2B</td>\n      <td>Khosla Ventures, LowercaseCapital, capitalG</td>\n      <td>4</td>\n      <td>1</td>\n      <td>1</td>\n    </tr>\n    <tr>\n      <th>4</th>\n      <td>Klarna</td>\n      <td>46</td>\n      <td>2011-12-12</td>\n      <td>Fintech</td>\n      <td>Stockholm</td>\n      <td>Sweden</td>\n      <td>Europe</td>\n      <td>2005</td>\n      <td>$4B</td>\n      <td>Institutional Venture Partners, Sequoia Capita...</td>\n      <td>6</td>\n      <td>1</td>\n      <td>3</td>\n    </tr>\n  </tbody>\n</table>\n</div>"
          },
          "metadata": {}
        }
      ],
      "execution_count": 145
    },
    {
      "cell_type": "code",
      "source": "# Create numeric categories for Country/Region\ncompanies['Country/Region Numeric'] = companies['Country/Region'].astype('category').cat.codes",
      "metadata": {
        "trusted": true
      },
      "outputs": [],
      "execution_count": 146
    },
    {
      "cell_type": "code",
      "source": "# Create dummy variables with Industry values\nindustry_encoded = pd.get_dummies(companies['Industry'])\n\n# Combine companies DataFrame with new dummy Industry columns\ncompanies = pd.concat([companies, industry_encoded], axis=1)\n\n# Drop the Industry column since it's no longer needed\ncompanies = companies.drop('Industry', axis=1)",
      "metadata": {
        "trusted": true
      },
      "outputs": [],
      "execution_count": 147
    },
    {
      "cell_type": "code",
      "source": "# Remove $, B, and M designations from Funding column using regular expression\ncompanies['Funding'] = companies['Funding'].str.replace('[$BM]', '', regex=True)",
      "metadata": {
        "trusted": true
      },
      "outputs": [],
      "execution_count": 148
    },
    {
      "cell_type": "code",
      "source": "# Identify if there are any other designations in the Funding column\ncompanies['Funding'].value_counts()",
      "metadata": {
        "trusted": true
      },
      "outputs": [
        {
          "execution_count": 149,
          "output_type": "execute_result",
          "data": {
            "text/plain": "1          60\n2          30\n200        12\nUnknown    12\n4           9\n           ..\n29          1\n717         1\n101         1\n19          1\n620         1\nName: Funding, Length: 536, dtype: int64"
          },
          "metadata": {}
        }
      ],
      "execution_count": 149
    },
    {
      "cell_type": "code",
      "source": "# Display the rows where Funding is Unknown\ncompanies[companies['Funding'] == 'Unknown']",
      "metadata": {
        "trusted": true
      },
      "outputs": [
        {
          "execution_count": 150,
          "output_type": "execute_result",
          "data": {
            "text/plain": "              Company  Valuation Date Joined                   City  \\\n214            SSENSE          4  2021-06-08               Montreal   \n424           Uplight          2  2021-03-03                Boulder   \n566               ISN          2  2020-12-17                 Dallas   \n638        SITECH DEV          1  2019-05-16                Guiyang   \n650          Xiaobing          1  2021-07-12                Beijing   \n716            Veepee          1  2007-07-02  La Plaine Saint-Denis   \n732         DistroKid          1  2021-08-16               New York   \n865          Assembly          1  2021-09-21            Culver City   \n889      Carson Group          1  2021-07-14                Lincoln   \n944   Iodine Software          1  2021-12-01                 Austin   \n946      Kendra Scott          1  2016-12-21                 Austin   \n1001           Poizon          1  2019-04-29               Shanghai   \n\n     Country/Region      Continent  Year Founded  Funding  \\\n214          Canada  North America          2003  Unknown   \n424   United States  North America          2019  Unknown   \n566   United States  North America          2001  Unknown   \n638           China           Asia          2017  Unknown   \n650           China           Asia          2020  Unknown   \n716          France         Europe          2001  Unknown   \n732   United States  North America          2013  Unknown   \n865   United States  North America          2019  Unknown   \n889   United States  North America          2012  Unknown   \n944   United States  North America          2010  Unknown   \n946   United States  North America          2002  Unknown   \n1001          China           Asia          2015  Unknown   \n\n                                       Select Investors  Years To Unicorn  \\\n214                                     Sequoia Capital                18   \n424   Rubicon Technology Partners, Max Ventures, Inc...                 2   \n566                                          Blackstone                19   \n638                            China Prosperity Capital                 2   \n650   NetEase Capital, Northern Light Venture Capita...                 1   \n716                      Summit Partners, Qatar Holding                 6   \n732   Insight Partners, Silversmith Capital Partners...                 8   \n865   Advent International, PSG, Providence Equity P...                 2   \n889                                        Bain Capital                 9   \n944   Advent International, Bain Capital Ventures, S...                11   \n946        Berkshire Partners, Norwest Venture Partners                14   \n1001  DST Global, Sequoia Capital China, Gaorong Cap...                 4   \n\n     High Valuation  Continent Number  Country/Region Numeric  \\\n214               1                 1                       7   \n424               0                 1                      44   \n566               0                 1                      44   \n638               0                 2                       9   \n650               0                 2                       9   \n716               0                 3                      16   \n732               0                 1                      44   \n865               0                 1                      44   \n889               0                 1                      44   \n944               0                 1                      44   \n946               0                 1                      44   \n1001              0                 2                       9   \n\n      Artificial intelligence  Auto & transportation  Consumer & retail  \\\n214                         0                      0                  0   \n424                         0                      0                  0   \n566                         0                      0                  0   \n638                         0                      0                  0   \n650                         0                      0                  0   \n716                         0                      0                  0   \n732                         0                      0                  0   \n865                         0                      0                  0   \n889                         0                      0                  0   \n944                         0                      0                  0   \n946                         0                      0                  1   \n1001                        0                      0                  0   \n\n      Cybersecurity  Data management & analytics  \\\n214               0                            0   \n424               0                            0   \n566               0                            0   \n638               0                            0   \n650               0                            0   \n716               0                            0   \n732               0                            0   \n865               0                            0   \n889               0                            0   \n944               0                            1   \n946               0                            0   \n1001              0                            0   \n\n      E-commerce & direct-to-consumer  Edtech  Fintech  Hardware  Health  \\\n214                                 1       0        0         0       0   \n424                                 0       0        0         0       0   \n566                                 0       0        0         0       0   \n638                                 0       0        0         0       0   \n650                                 0       0        1         0       0   \n716                                 1       0        0         0       0   \n732                                 0       0        0         0       0   \n865                                 0       0        0         0       0   \n889                                 0       0        1         0       0   \n944                                 0       0        0         0       0   \n946                                 0       0        0         0       0   \n1001                                0       0        0         0       0   \n\n      Internet software & services  Mobile & telecommunications  Other  \\\n214                              0                            0      0   \n424                              0                            0      1   \n566                              0                            0      0   \n638                              0                            0      1   \n650                              0                            0      0   \n716                              0                            0      0   \n732                              1                            0      0   \n865                              1                            0      0   \n889                              0                            0      0   \n944                              0                            0      0   \n946                              0                            0      0   \n1001                             0                            1      0   \n\n      Supply chain, logistics, & delivery  Travel  \n214                                     0       0  \n424                                     0       0  \n566                                     1       0  \n638                                     0       0  \n650                                     0       0  \n716                                     0       0  \n732                                     0       0  \n865                                     0       0  \n889                                     0       0  \n944                                     0       0  \n946                                     0       0  \n1001                                    0       0  ",
            "text/html": "<div>\n<style scoped>\n    .dataframe tbody tr th:only-of-type {\n        vertical-align: middle;\n    }\n\n    .dataframe tbody tr th {\n        vertical-align: top;\n    }\n\n    .dataframe thead th {\n        text-align: right;\n    }\n</style>\n<table border=\"1\" class=\"dataframe\">\n  <thead>\n    <tr style=\"text-align: right;\">\n      <th></th>\n      <th>Company</th>\n      <th>Valuation</th>\n      <th>Date Joined</th>\n      <th>City</th>\n      <th>Country/Region</th>\n      <th>Continent</th>\n      <th>Year Founded</th>\n      <th>Funding</th>\n      <th>Select Investors</th>\n      <th>Years To Unicorn</th>\n      <th>High Valuation</th>\n      <th>Continent Number</th>\n      <th>Country/Region Numeric</th>\n      <th>Artificial intelligence</th>\n      <th>Auto &amp; transportation</th>\n      <th>Consumer &amp; retail</th>\n      <th>Cybersecurity</th>\n      <th>Data management &amp; analytics</th>\n      <th>E-commerce &amp; direct-to-consumer</th>\n      <th>Edtech</th>\n      <th>Fintech</th>\n      <th>Hardware</th>\n      <th>Health</th>\n      <th>Internet software &amp; services</th>\n      <th>Mobile &amp; telecommunications</th>\n      <th>Other</th>\n      <th>Supply chain, logistics, &amp; delivery</th>\n      <th>Travel</th>\n    </tr>\n  </thead>\n  <tbody>\n    <tr>\n      <th>214</th>\n      <td>SSENSE</td>\n      <td>4</td>\n      <td>2021-06-08</td>\n      <td>Montreal</td>\n      <td>Canada</td>\n      <td>North America</td>\n      <td>2003</td>\n      <td>Unknown</td>\n      <td>Sequoia Capital</td>\n      <td>18</td>\n      <td>1</td>\n      <td>1</td>\n      <td>7</td>\n      <td>0</td>\n      <td>0</td>\n      <td>0</td>\n      <td>0</td>\n      <td>0</td>\n      <td>1</td>\n      <td>0</td>\n      <td>0</td>\n      <td>0</td>\n      <td>0</td>\n      <td>0</td>\n      <td>0</td>\n      <td>0</td>\n      <td>0</td>\n      <td>0</td>\n    </tr>\n    <tr>\n      <th>424</th>\n      <td>Uplight</td>\n      <td>2</td>\n      <td>2021-03-03</td>\n      <td>Boulder</td>\n      <td>United States</td>\n      <td>North America</td>\n      <td>2019</td>\n      <td>Unknown</td>\n      <td>Rubicon Technology Partners, Max Ventures, Inc...</td>\n      <td>2</td>\n      <td>0</td>\n      <td>1</td>\n      <td>44</td>\n      <td>0</td>\n      <td>0</td>\n      <td>0</td>\n      <td>0</td>\n      <td>0</td>\n      <td>0</td>\n      <td>0</td>\n      <td>0</td>\n      <td>0</td>\n      <td>0</td>\n      <td>0</td>\n      <td>0</td>\n      <td>1</td>\n      <td>0</td>\n      <td>0</td>\n    </tr>\n    <tr>\n      <th>566</th>\n      <td>ISN</td>\n      <td>2</td>\n      <td>2020-12-17</td>\n      <td>Dallas</td>\n      <td>United States</td>\n      <td>North America</td>\n      <td>2001</td>\n      <td>Unknown</td>\n      <td>Blackstone</td>\n      <td>19</td>\n      <td>0</td>\n      <td>1</td>\n      <td>44</td>\n      <td>0</td>\n      <td>0</td>\n      <td>0</td>\n      <td>0</td>\n      <td>0</td>\n      <td>0</td>\n      <td>0</td>\n      <td>0</td>\n      <td>0</td>\n      <td>0</td>\n      <td>0</td>\n      <td>0</td>\n      <td>0</td>\n      <td>1</td>\n      <td>0</td>\n    </tr>\n    <tr>\n      <th>638</th>\n      <td>SITECH DEV</td>\n      <td>1</td>\n      <td>2019-05-16</td>\n      <td>Guiyang</td>\n      <td>China</td>\n      <td>Asia</td>\n      <td>2017</td>\n      <td>Unknown</td>\n      <td>China Prosperity Capital</td>\n      <td>2</td>\n      <td>0</td>\n      <td>2</td>\n      <td>9</td>\n      <td>0</td>\n      <td>0</td>\n      <td>0</td>\n      <td>0</td>\n      <td>0</td>\n      <td>0</td>\n      <td>0</td>\n      <td>0</td>\n      <td>0</td>\n      <td>0</td>\n      <td>0</td>\n      <td>0</td>\n      <td>1</td>\n      <td>0</td>\n      <td>0</td>\n    </tr>\n    <tr>\n      <th>650</th>\n      <td>Xiaobing</td>\n      <td>1</td>\n      <td>2021-07-12</td>\n      <td>Beijing</td>\n      <td>China</td>\n      <td>Asia</td>\n      <td>2020</td>\n      <td>Unknown</td>\n      <td>NetEase Capital, Northern Light Venture Capita...</td>\n      <td>1</td>\n      <td>0</td>\n      <td>2</td>\n      <td>9</td>\n      <td>0</td>\n      <td>0</td>\n      <td>0</td>\n      <td>0</td>\n      <td>0</td>\n      <td>0</td>\n      <td>0</td>\n      <td>1</td>\n      <td>0</td>\n      <td>0</td>\n      <td>0</td>\n      <td>0</td>\n      <td>0</td>\n      <td>0</td>\n      <td>0</td>\n    </tr>\n    <tr>\n      <th>716</th>\n      <td>Veepee</td>\n      <td>1</td>\n      <td>2007-07-02</td>\n      <td>La Plaine Saint-Denis</td>\n      <td>France</td>\n      <td>Europe</td>\n      <td>2001</td>\n      <td>Unknown</td>\n      <td>Summit Partners, Qatar Holding</td>\n      <td>6</td>\n      <td>0</td>\n      <td>3</td>\n      <td>16</td>\n      <td>0</td>\n      <td>0</td>\n      <td>0</td>\n      <td>0</td>\n      <td>0</td>\n      <td>1</td>\n      <td>0</td>\n      <td>0</td>\n      <td>0</td>\n      <td>0</td>\n      <td>0</td>\n      <td>0</td>\n      <td>0</td>\n      <td>0</td>\n      <td>0</td>\n    </tr>\n    <tr>\n      <th>732</th>\n      <td>DistroKid</td>\n      <td>1</td>\n      <td>2021-08-16</td>\n      <td>New York</td>\n      <td>United States</td>\n      <td>North America</td>\n      <td>2013</td>\n      <td>Unknown</td>\n      <td>Insight Partners, Silversmith Capital Partners...</td>\n      <td>8</td>\n      <td>0</td>\n      <td>1</td>\n      <td>44</td>\n      <td>0</td>\n      <td>0</td>\n      <td>0</td>\n      <td>0</td>\n      <td>0</td>\n      <td>0</td>\n      <td>0</td>\n      <td>0</td>\n      <td>0</td>\n      <td>0</td>\n      <td>1</td>\n      <td>0</td>\n      <td>0</td>\n      <td>0</td>\n      <td>0</td>\n    </tr>\n    <tr>\n      <th>865</th>\n      <td>Assembly</td>\n      <td>1</td>\n      <td>2021-09-21</td>\n      <td>Culver City</td>\n      <td>United States</td>\n      <td>North America</td>\n      <td>2019</td>\n      <td>Unknown</td>\n      <td>Advent International, PSG, Providence Equity P...</td>\n      <td>2</td>\n      <td>0</td>\n      <td>1</td>\n      <td>44</td>\n      <td>0</td>\n      <td>0</td>\n      <td>0</td>\n      <td>0</td>\n      <td>0</td>\n      <td>0</td>\n      <td>0</td>\n      <td>0</td>\n      <td>0</td>\n      <td>0</td>\n      <td>1</td>\n      <td>0</td>\n      <td>0</td>\n      <td>0</td>\n      <td>0</td>\n    </tr>\n    <tr>\n      <th>889</th>\n      <td>Carson Group</td>\n      <td>1</td>\n      <td>2021-07-14</td>\n      <td>Lincoln</td>\n      <td>United States</td>\n      <td>North America</td>\n      <td>2012</td>\n      <td>Unknown</td>\n      <td>Bain Capital</td>\n      <td>9</td>\n      <td>0</td>\n      <td>1</td>\n      <td>44</td>\n      <td>0</td>\n      <td>0</td>\n      <td>0</td>\n      <td>0</td>\n      <td>0</td>\n      <td>0</td>\n      <td>0</td>\n      <td>1</td>\n      <td>0</td>\n      <td>0</td>\n      <td>0</td>\n      <td>0</td>\n      <td>0</td>\n      <td>0</td>\n      <td>0</td>\n    </tr>\n    <tr>\n      <th>944</th>\n      <td>Iodine Software</td>\n      <td>1</td>\n      <td>2021-12-01</td>\n      <td>Austin</td>\n      <td>United States</td>\n      <td>North America</td>\n      <td>2010</td>\n      <td>Unknown</td>\n      <td>Advent International, Bain Capital Ventures, S...</td>\n      <td>11</td>\n      <td>0</td>\n      <td>1</td>\n      <td>44</td>\n      <td>0</td>\n      <td>0</td>\n      <td>0</td>\n      <td>0</td>\n      <td>1</td>\n      <td>0</td>\n      <td>0</td>\n      <td>0</td>\n      <td>0</td>\n      <td>0</td>\n      <td>0</td>\n      <td>0</td>\n      <td>0</td>\n      <td>0</td>\n      <td>0</td>\n    </tr>\n    <tr>\n      <th>946</th>\n      <td>Kendra Scott</td>\n      <td>1</td>\n      <td>2016-12-21</td>\n      <td>Austin</td>\n      <td>United States</td>\n      <td>North America</td>\n      <td>2002</td>\n      <td>Unknown</td>\n      <td>Berkshire Partners, Norwest Venture Partners</td>\n      <td>14</td>\n      <td>0</td>\n      <td>1</td>\n      <td>44</td>\n      <td>0</td>\n      <td>0</td>\n      <td>1</td>\n      <td>0</td>\n      <td>0</td>\n      <td>0</td>\n      <td>0</td>\n      <td>0</td>\n      <td>0</td>\n      <td>0</td>\n      <td>0</td>\n      <td>0</td>\n      <td>0</td>\n      <td>0</td>\n      <td>0</td>\n    </tr>\n    <tr>\n      <th>1001</th>\n      <td>Poizon</td>\n      <td>1</td>\n      <td>2019-04-29</td>\n      <td>Shanghai</td>\n      <td>China</td>\n      <td>Asia</td>\n      <td>2015</td>\n      <td>Unknown</td>\n      <td>DST Global, Sequoia Capital China, Gaorong Cap...</td>\n      <td>4</td>\n      <td>0</td>\n      <td>2</td>\n      <td>9</td>\n      <td>0</td>\n      <td>0</td>\n      <td>0</td>\n      <td>0</td>\n      <td>0</td>\n      <td>0</td>\n      <td>0</td>\n      <td>0</td>\n      <td>0</td>\n      <td>0</td>\n      <td>0</td>\n      <td>1</td>\n      <td>0</td>\n      <td>0</td>\n      <td>0</td>\n    </tr>\n  </tbody>\n</table>\n</div>"
          },
          "metadata": {}
        }
      ],
      "execution_count": 150
    },
    {
      "cell_type": "code",
      "source": "# Create a new dataframe to remove the rows missing Funding information\ncompanies_trimmed = companies[companies['Funding'] != 'Unknown'].copy()",
      "metadata": {
        "trusted": true
      },
      "outputs": [],
      "execution_count": 151
    },
    {
      "cell_type": "code",
      "source": "# Convert Funding column to \ncompanies_trimmed['Funding'] = companies_trimmed['Funding'].astype(int)",
      "metadata": {
        "trusted": true
      },
      "outputs": [],
      "execution_count": 152
    },
    {
      "cell_type": "code",
      "source": "companies_trimmed['Number of Investors'] = companies_trimmed['Select Investors'].apply(lambda x: len(x.split(',')))\ncompanies_trimmed = companies_trimmed.drop('Select Investors', axis=1)",
      "metadata": {
        "trusted": true
      },
      "outputs": [],
      "execution_count": 153
    },
    {
      "cell_type": "code",
      "source": "companies_trimmed['City Numeric'] = companies_trimmed['City'].astype('category').cat.codes\ncompanies_trimmed['Continent Numeric'] = companies_trimmed['Continent'].astype('category').cat.codes\ncompanies_trimmed = companies_trimmed.drop(['Country/Region', 'City', 'Continent'], axis=1)",
      "metadata": {
        "trusted": true
      },
      "outputs": [],
      "execution_count": 154
    },
    {
      "cell_type": "code",
      "source": "# Drop our Date Joined column\ncompanies_trimmed = companies_trimmed.drop('Date Joined', axis=1)",
      "metadata": {
        "trusted": true
      },
      "outputs": [],
      "execution_count": 155
    },
    {
      "cell_type": "code",
      "source": "# Create a new target variable column for our model\ncompanies_trimmed['Unicorn Within 5 Years'] = (companies_trimmed['Years To Unicorn'] <= 5).astype(int)\n\n# Check our class balance\ncompanies_trimmed['Unicorn Within 5 Years'].value_counts()",
      "metadata": {
        "trusted": true
      },
      "outputs": [
        {
          "execution_count": 156,
          "output_type": "execute_result",
          "data": {
            "text/plain": "0    600\n1    459\nName: Unicorn Within 5 Years, dtype: int64"
          },
          "metadata": {}
        }
      ],
      "execution_count": 156
    },
    {
      "cell_type": "code",
      "source": "# Separate the dataset into features (X) and target variable (y)\nX = companies_trimmed.drop(['Company', 'Years To Unicorn', 'Unicorn Within 5 Years'], axis=1)\ny = companies_trimmed['Unicorn Within 5 Years']",
      "metadata": {
        "trusted": true
      },
      "outputs": [],
      "execution_count": 157
    },
    {
      "cell_type": "code",
      "source": "# Split the dataset into train and test datasets\nX_train, X_test, y_train, y_test = train_test_split(X, y, test_size=0.20, random_state=42)",
      "metadata": {
        "trusted": true
      },
      "outputs": [],
      "execution_count": 158
    },
    {
      "cell_type": "code",
      "source": "# Instantiate our random forest classifier\nrf = RandomForestClassifier(random_state=0)",
      "metadata": {
        "trusted": true
      },
      "outputs": [],
      "execution_count": 159
    },
    {
      "cell_type": "code",
      "source": "# Fit our data to the random forest model\nrf.fit(X_train, y_train)",
      "metadata": {
        "trusted": true
      },
      "outputs": [
        {
          "execution_count": 160,
          "output_type": "execute_result",
          "data": {
            "text/plain": "RandomForestClassifier(random_state=0)",
            "text/html": "<style>#sk-container-id-11 {color: black;}#sk-container-id-11 pre{padding: 0;}#sk-container-id-11 div.sk-toggleable {background-color: white;}#sk-container-id-11 label.sk-toggleable__label {cursor: pointer;display: block;width: 100%;margin-bottom: 0;padding: 0.3em;box-sizing: border-box;text-align: center;}#sk-container-id-11 label.sk-toggleable__label-arrow:before {content: \"▸\";float: left;margin-right: 0.25em;color: #696969;}#sk-container-id-11 label.sk-toggleable__label-arrow:hover:before {color: black;}#sk-container-id-11 div.sk-estimator:hover label.sk-toggleable__label-arrow:before {color: black;}#sk-container-id-11 div.sk-toggleable__content {max-height: 0;max-width: 0;overflow: hidden;text-align: left;background-color: #f0f8ff;}#sk-container-id-11 div.sk-toggleable__content pre {margin: 0.2em;color: black;border-radius: 0.25em;background-color: #f0f8ff;}#sk-container-id-11 input.sk-toggleable__control:checked~div.sk-toggleable__content {max-height: 200px;max-width: 100%;overflow: auto;}#sk-container-id-11 input.sk-toggleable__control:checked~label.sk-toggleable__label-arrow:before {content: \"▾\";}#sk-container-id-11 div.sk-estimator input.sk-toggleable__control:checked~label.sk-toggleable__label {background-color: #d4ebff;}#sk-container-id-11 div.sk-label input.sk-toggleable__control:checked~label.sk-toggleable__label {background-color: #d4ebff;}#sk-container-id-11 input.sk-hidden--visually {border: 0;clip: rect(1px 1px 1px 1px);clip: rect(1px, 1px, 1px, 1px);height: 1px;margin: -1px;overflow: hidden;padding: 0;position: absolute;width: 1px;}#sk-container-id-11 div.sk-estimator {font-family: monospace;background-color: #f0f8ff;border: 1px dotted black;border-radius: 0.25em;box-sizing: border-box;margin-bottom: 0.5em;}#sk-container-id-11 div.sk-estimator:hover {background-color: #d4ebff;}#sk-container-id-11 div.sk-parallel-item::after {content: \"\";width: 100%;border-bottom: 1px solid gray;flex-grow: 1;}#sk-container-id-11 div.sk-label:hover label.sk-toggleable__label {background-color: #d4ebff;}#sk-container-id-11 div.sk-serial::before {content: \"\";position: absolute;border-left: 1px solid gray;box-sizing: border-box;top: 0;bottom: 0;left: 50%;z-index: 0;}#sk-container-id-11 div.sk-serial {display: flex;flex-direction: column;align-items: center;background-color: white;padding-right: 0.2em;padding-left: 0.2em;position: relative;}#sk-container-id-11 div.sk-item {position: relative;z-index: 1;}#sk-container-id-11 div.sk-parallel {display: flex;align-items: stretch;justify-content: center;background-color: white;position: relative;}#sk-container-id-11 div.sk-item::before, #sk-container-id-11 div.sk-parallel-item::before {content: \"\";position: absolute;border-left: 1px solid gray;box-sizing: border-box;top: 0;bottom: 0;left: 50%;z-index: -1;}#sk-container-id-11 div.sk-parallel-item {display: flex;flex-direction: column;z-index: 1;position: relative;background-color: white;}#sk-container-id-11 div.sk-parallel-item:first-child::after {align-self: flex-end;width: 50%;}#sk-container-id-11 div.sk-parallel-item:last-child::after {align-self: flex-start;width: 50%;}#sk-container-id-11 div.sk-parallel-item:only-child::after {width: 0;}#sk-container-id-11 div.sk-dashed-wrapped {border: 1px dashed gray;margin: 0 0.4em 0.5em 0.4em;box-sizing: border-box;padding-bottom: 0.4em;background-color: white;}#sk-container-id-11 div.sk-label label {font-family: monospace;font-weight: bold;display: inline-block;line-height: 1.2em;}#sk-container-id-11 div.sk-label-container {text-align: center;}#sk-container-id-11 div.sk-container {/* jupyter's `normalize.less` sets `[hidden] { display: none; }` but bootstrap.min.css set `[hidden] { display: none !important; }` so we also need the `!important` here to be able to override the default hidden behavior on the sphinx rendered scikit-learn.org. See: https://github.com/scikit-learn/scikit-learn/issues/21755 */display: inline-block !important;position: relative;}#sk-container-id-11 div.sk-text-repr-fallback {display: none;}</style><div id=\"sk-container-id-11\" class=\"sk-top-container\"><div class=\"sk-text-repr-fallback\"><pre>RandomForestClassifier(random_state=0)</pre><b>In a Jupyter environment, please rerun this cell to show the HTML representation or trust the notebook. <br />On GitHub, the HTML representation is unable to render, please try loading this page with nbviewer.org.</b></div><div class=\"sk-container\" hidden><div class=\"sk-item\"><div class=\"sk-estimator sk-toggleable\"><input class=\"sk-toggleable__control sk-hidden--visually\" id=\"sk-estimator-id-27\" type=\"checkbox\" checked><label for=\"sk-estimator-id-27\" class=\"sk-toggleable__label sk-toggleable__label-arrow\">RandomForestClassifier</label><div class=\"sk-toggleable__content\"><pre>RandomForestClassifier(random_state=0)</pre></div></div></div></div></div>"
          },
          "metadata": {}
        }
      ],
      "execution_count": 160
    },
    {
      "cell_type": "code",
      "source": "# Make predictions on the test dataset\ny_pred = rf.predict(X_test)",
      "metadata": {
        "trusted": true
      },
      "outputs": [],
      "execution_count": 161
    },
    {
      "cell_type": "code",
      "source": "# Evaluate our base model\nprecision = precision_score(y_test, y_pred)\nprint('Precision:', precision)\nrecall = recall_score(y_test, y_pred)\nprint('Recall:', recall)\naccuracy = accuracy_score(y_test, y_pred)\nprint('Accuracy:', accuracy)\nf1 = f1_score(y_test, y_pred)\nprint('f1:', f1)",
      "metadata": {
        "trusted": true
      },
      "outputs": [
        {
          "name": "stdout",
          "text": "Precision: 0.8313253012048193\nRecall: 0.8214285714285714\nAccuracy: 0.8632075471698113\nf1: 0.8263473053892216\n",
          "output_type": "stream"
        }
      ],
      "execution_count": 162
    },
    {
      "cell_type": "code",
      "source": "# Show the parameters of our base model\nrf.get_params()",
      "metadata": {
        "trusted": true
      },
      "outputs": [
        {
          "execution_count": 163,
          "output_type": "execute_result",
          "data": {
            "text/plain": "{'bootstrap': True,\n 'ccp_alpha': 0.0,\n 'class_weight': None,\n 'criterion': 'gini',\n 'max_depth': None,\n 'max_features': 'sqrt',\n 'max_leaf_nodes': None,\n 'max_samples': None,\n 'min_impurity_decrease': 0.0,\n 'min_samples_leaf': 1,\n 'min_samples_split': 2,\n 'min_weight_fraction_leaf': 0.0,\n 'n_estimators': 100,\n 'n_jobs': None,\n 'oob_score': False,\n 'random_state': 0,\n 'verbose': 0,\n 'warm_start': False}"
          },
          "metadata": {}
        }
      ],
      "execution_count": 163
    },
    {
      "cell_type": "code",
      "source": "# Tune our model\ncv_params = {'n_estimators': [50, 100, 200],\n             'max_depth': [None, 10, 20],\n             'min_samples_split': [2, 5, 10],\n             'min_samples_leaf': [1, 2, 4]\n            }",
      "metadata": {
        "trusted": true
      },
      "outputs": [],
      "execution_count": 164
    },
    {
      "cell_type": "code",
      "source": "# Define the custom scoring function\nscoring = ['precision', 'recall', 'accuracy', 'f1']",
      "metadata": {
        "trusted": true
      },
      "outputs": [],
      "execution_count": 165
    },
    {
      "cell_type": "code",
      "source": "# Use GridSearchCV for hyperparameter tuning and cross validation\nrf_cv = GridSearchCV(rf, param_grid=cv_params, cv=5, scoring=scoring, refit='f1')",
      "metadata": {
        "trusted": true
      },
      "outputs": [],
      "execution_count": 166
    },
    {
      "cell_type": "code",
      "source": "%%time\n# Fit our data to the tuned model\nrf_cv.fit(X_train, y_train)",
      "metadata": {
        "trusted": true
      },
      "outputs": [
        {
          "name": "stdout",
          "text": "CPU times: user 0 ns, sys: 0 ns, total: 0 ns\nWall time: 3min 33s\n",
          "output_type": "stream"
        },
        {
          "execution_count": 167,
          "output_type": "execute_result",
          "data": {
            "text/plain": "GridSearchCV(cv=5, estimator=RandomForestClassifier(random_state=0),\n             param_grid={'max_depth': [None, 10, 20],\n                         'min_samples_leaf': [1, 2, 4],\n                         'min_samples_split': [2, 5, 10],\n                         'n_estimators': [50, 100, 200]},\n             refit='f1', scoring=['precision', 'recall', 'accuracy', 'f1'])",
            "text/html": "<style>#sk-container-id-12 {color: black;}#sk-container-id-12 pre{padding: 0;}#sk-container-id-12 div.sk-toggleable {background-color: white;}#sk-container-id-12 label.sk-toggleable__label {cursor: pointer;display: block;width: 100%;margin-bottom: 0;padding: 0.3em;box-sizing: border-box;text-align: center;}#sk-container-id-12 label.sk-toggleable__label-arrow:before {content: \"▸\";float: left;margin-right: 0.25em;color: #696969;}#sk-container-id-12 label.sk-toggleable__label-arrow:hover:before {color: black;}#sk-container-id-12 div.sk-estimator:hover label.sk-toggleable__label-arrow:before {color: black;}#sk-container-id-12 div.sk-toggleable__content {max-height: 0;max-width: 0;overflow: hidden;text-align: left;background-color: #f0f8ff;}#sk-container-id-12 div.sk-toggleable__content pre {margin: 0.2em;color: black;border-radius: 0.25em;background-color: #f0f8ff;}#sk-container-id-12 input.sk-toggleable__control:checked~div.sk-toggleable__content {max-height: 200px;max-width: 100%;overflow: auto;}#sk-container-id-12 input.sk-toggleable__control:checked~label.sk-toggleable__label-arrow:before {content: \"▾\";}#sk-container-id-12 div.sk-estimator input.sk-toggleable__control:checked~label.sk-toggleable__label {background-color: #d4ebff;}#sk-container-id-12 div.sk-label input.sk-toggleable__control:checked~label.sk-toggleable__label {background-color: #d4ebff;}#sk-container-id-12 input.sk-hidden--visually {border: 0;clip: rect(1px 1px 1px 1px);clip: rect(1px, 1px, 1px, 1px);height: 1px;margin: -1px;overflow: hidden;padding: 0;position: absolute;width: 1px;}#sk-container-id-12 div.sk-estimator {font-family: monospace;background-color: #f0f8ff;border: 1px dotted black;border-radius: 0.25em;box-sizing: border-box;margin-bottom: 0.5em;}#sk-container-id-12 div.sk-estimator:hover {background-color: #d4ebff;}#sk-container-id-12 div.sk-parallel-item::after {content: \"\";width: 100%;border-bottom: 1px solid gray;flex-grow: 1;}#sk-container-id-12 div.sk-label:hover label.sk-toggleable__label {background-color: #d4ebff;}#sk-container-id-12 div.sk-serial::before {content: \"\";position: absolute;border-left: 1px solid gray;box-sizing: border-box;top: 0;bottom: 0;left: 50%;z-index: 0;}#sk-container-id-12 div.sk-serial {display: flex;flex-direction: column;align-items: center;background-color: white;padding-right: 0.2em;padding-left: 0.2em;position: relative;}#sk-container-id-12 div.sk-item {position: relative;z-index: 1;}#sk-container-id-12 div.sk-parallel {display: flex;align-items: stretch;justify-content: center;background-color: white;position: relative;}#sk-container-id-12 div.sk-item::before, #sk-container-id-12 div.sk-parallel-item::before {content: \"\";position: absolute;border-left: 1px solid gray;box-sizing: border-box;top: 0;bottom: 0;left: 50%;z-index: -1;}#sk-container-id-12 div.sk-parallel-item {display: flex;flex-direction: column;z-index: 1;position: relative;background-color: white;}#sk-container-id-12 div.sk-parallel-item:first-child::after {align-self: flex-end;width: 50%;}#sk-container-id-12 div.sk-parallel-item:last-child::after {align-self: flex-start;width: 50%;}#sk-container-id-12 div.sk-parallel-item:only-child::after {width: 0;}#sk-container-id-12 div.sk-dashed-wrapped {border: 1px dashed gray;margin: 0 0.4em 0.5em 0.4em;box-sizing: border-box;padding-bottom: 0.4em;background-color: white;}#sk-container-id-12 div.sk-label label {font-family: monospace;font-weight: bold;display: inline-block;line-height: 1.2em;}#sk-container-id-12 div.sk-label-container {text-align: center;}#sk-container-id-12 div.sk-container {/* jupyter's `normalize.less` sets `[hidden] { display: none; }` but bootstrap.min.css set `[hidden] { display: none !important; }` so we also need the `!important` here to be able to override the default hidden behavior on the sphinx rendered scikit-learn.org. See: https://github.com/scikit-learn/scikit-learn/issues/21755 */display: inline-block !important;position: relative;}#sk-container-id-12 div.sk-text-repr-fallback {display: none;}</style><div id=\"sk-container-id-12\" class=\"sk-top-container\"><div class=\"sk-text-repr-fallback\"><pre>GridSearchCV(cv=5, estimator=RandomForestClassifier(random_state=0),\n             param_grid={&#x27;max_depth&#x27;: [None, 10, 20],\n                         &#x27;min_samples_leaf&#x27;: [1, 2, 4],\n                         &#x27;min_samples_split&#x27;: [2, 5, 10],\n                         &#x27;n_estimators&#x27;: [50, 100, 200]},\n             refit=&#x27;f1&#x27;, scoring=[&#x27;precision&#x27;, &#x27;recall&#x27;, &#x27;accuracy&#x27;, &#x27;f1&#x27;])</pre><b>In a Jupyter environment, please rerun this cell to show the HTML representation or trust the notebook. <br />On GitHub, the HTML representation is unable to render, please try loading this page with nbviewer.org.</b></div><div class=\"sk-container\" hidden><div class=\"sk-item sk-dashed-wrapped\"><div class=\"sk-label-container\"><div class=\"sk-label sk-toggleable\"><input class=\"sk-toggleable__control sk-hidden--visually\" id=\"sk-estimator-id-28\" type=\"checkbox\" ><label for=\"sk-estimator-id-28\" class=\"sk-toggleable__label sk-toggleable__label-arrow\">GridSearchCV</label><div class=\"sk-toggleable__content\"><pre>GridSearchCV(cv=5, estimator=RandomForestClassifier(random_state=0),\n             param_grid={&#x27;max_depth&#x27;: [None, 10, 20],\n                         &#x27;min_samples_leaf&#x27;: [1, 2, 4],\n                         &#x27;min_samples_split&#x27;: [2, 5, 10],\n                         &#x27;n_estimators&#x27;: [50, 100, 200]},\n             refit=&#x27;f1&#x27;, scoring=[&#x27;precision&#x27;, &#x27;recall&#x27;, &#x27;accuracy&#x27;, &#x27;f1&#x27;])</pre></div></div></div><div class=\"sk-parallel\"><div class=\"sk-parallel-item\"><div class=\"sk-item\"><div class=\"sk-label-container\"><div class=\"sk-label sk-toggleable\"><input class=\"sk-toggleable__control sk-hidden--visually\" id=\"sk-estimator-id-29\" type=\"checkbox\" ><label for=\"sk-estimator-id-29\" class=\"sk-toggleable__label sk-toggleable__label-arrow\">estimator: RandomForestClassifier</label><div class=\"sk-toggleable__content\"><pre>RandomForestClassifier(random_state=0)</pre></div></div></div><div class=\"sk-serial\"><div class=\"sk-item\"><div class=\"sk-estimator sk-toggleable\"><input class=\"sk-toggleable__control sk-hidden--visually\" id=\"sk-estimator-id-30\" type=\"checkbox\" ><label for=\"sk-estimator-id-30\" class=\"sk-toggleable__label sk-toggleable__label-arrow\">RandomForestClassifier</label><div class=\"sk-toggleable__content\"><pre>RandomForestClassifier(random_state=0)</pre></div></div></div></div></div></div></div></div></div></div>"
          },
          "metadata": {}
        }
      ],
      "execution_count": 167
    },
    {
      "cell_type": "code",
      "source": "# View the best parameters\nprint('Best Parameters:', rf_cv.best_params_)",
      "metadata": {
        "trusted": true
      },
      "outputs": [
        {
          "name": "stdout",
          "text": "Best Parameters: {'max_depth': 10, 'min_samples_leaf': 1, 'min_samples_split': 2, 'n_estimators': 200}\n",
          "output_type": "stream"
        }
      ],
      "execution_count": 168
    },
    {
      "cell_type": "code",
      "source": "# Make predictions on the test dataset\ny_pred = rf_cv.predict(X_test)",
      "metadata": {
        "trusted": true
      },
      "outputs": [],
      "execution_count": 169
    },
    {
      "cell_type": "code",
      "source": "# Evaluate our tuned model\nprecision = precision_score(y_test, y_pred)\nprint('Precision:', precision)\nrecall = recall_score(y_test, y_pred)\nprint('Recall:', recall)\naccuracy = accuracy_score(y_test, y_pred)\nprint('Accuracy:', accuracy)\nf1 = f1_score(y_test, y_pred)\nprint('f1:', f1)",
      "metadata": {
        "trusted": true
      },
      "outputs": [
        {
          "name": "stdout",
          "text": "Precision: 0.8625\nRecall: 0.8214285714285714\nAccuracy: 0.8773584905660378\nf1: 0.8414634146341463\n",
          "output_type": "stream"
        }
      ],
      "execution_count": 170
    },
    {
      "cell_type": "code",
      "source": "# Create a confusion matrix\ncm = confusion_matrix(y_test, y_pred)",
      "metadata": {
        "trusted": true
      },
      "outputs": [],
      "execution_count": 171
    },
    {
      "cell_type": "code",
      "source": "# Display our confusion matrix\ndisp = ConfusionMatrixDisplay(confusion_matrix=cm, display_labels=rf_cv.classes_)\ndisp.plot()",
      "metadata": {
        "trusted": true
      },
      "outputs": [
        {
          "execution_count": 172,
          "output_type": "execute_result",
          "data": {
            "text/plain": "<sklearn.metrics._plot.confusion_matrix.ConfusionMatrixDisplay at 0x2c92f58>"
          },
          "metadata": {}
        },
        {
          "output_type": "display_data",
          "data": {
            "text/plain": "<Figure size 640x480 with 2 Axes>",
            "image/png": "[encoded data removed]"
          },
          "metadata": {}
        }
      ],
      "execution_count": 172
    },
    {
      "cell_type": "code",
      "source": "",
      "metadata": {
        "trusted": true
      },
      "outputs": [],
      "execution_count": null
    }
  ]
}